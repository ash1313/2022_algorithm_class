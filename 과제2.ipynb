{
  "nbformat": 4,
  "nbformat_minor": 0,
  "metadata": {
    "colab": {
      "name": "과제2",
      "provenance": [],
      "collapsed_sections": [],
      "authorship_tag": "ABX9TyPEC2n2pWDDwTayiriQYk9+",
      "include_colab_link": true
    },
    "kernelspec": {
      "name": "python3",
      "display_name": "Python 3"
    },
    "language_info": {
      "name": "python"
    }
  },
  "cells": [
    {
      "cell_type": "markdown",
      "metadata": {
        "id": "view-in-github",
        "colab_type": "text"
      },
      "source": [
        "<a href=\"https://colab.research.google.com/github/ash1313/2022_algorithm_class/blob/main/%EA%B3%BC%EC%A0%9C2.ipynb\" target=\"_parent\"><img src=\"https://colab.research.google.com/assets/colab-badge.svg\" alt=\"Open In Colab\"/></a>"
      ]
    },
    {
      "cell_type": "code",
      "execution_count": null,
      "metadata": {
        "colab": {
          "base_uri": "https://localhost:8080/"
        },
        "id": "R3SP8RRyBzkO",
        "outputId": "9d916b9d-d6d3-47e7-88c6-fac11980e96d"
      },
      "outputs": [
        {
          "output_type": "stream",
          "name": "stdout",
          "text": [
            "[2, 9, 5, 15, 25, 17]\n",
            "[2, 5, 9, 15, 17, 25]\n"
          ]
        }
      ],
      "source": [
        "#p55_24\n",
        "import heapq\n",
        "#heapq를 임포트한다.\n",
        "# 입력할 리스트를 생성한다.\n",
        "first = [2,9,5,15,25,17]\n",
        "#리스트의 개수를 n에 저장한다.\n",
        "n = len(first)\n",
        "# 리스트를 담을 h를 생성한다.\n",
        "h = []\n",
        "# 반복문을 통해서 우선순위 큐에 모두 저장한다.\n",
        "for i in range(n):\n",
        "  heapq.heappush(h,(first[i]))\n",
        "# 순서대로 하나씩 꺼내서 저장할 리스트를 생성한다.\n",
        "last = []\n",
        "# 반복문을 통해서 하나씩 꺼내서 저장한다.\n",
        "for i in range(n):\n",
        "  last.append(heapq.heappop(h))\n",
        "# 처음 리스트를 출력한다.\n",
        "print(first)\n",
        "# 정렬된 리스트를 출력한다.\n",
        "print(last)"
      ]
    },
    {
      "cell_type": "markdown",
      "source": [
        "문제 2\n",
        "----\n",
        "\t  (1) 다음의 두 알고리즘이 입력의 크기에 따라 어떤 증가 속도를 갖는지를 설명하고, 입력의 구성에 따라 처리시간이 달라지는지를 설명하라.\n",
        "\t\t1) 입력 리스트에서 어떤 항목이 있는지를 검사하는 알고리즘\n",
        "\t\t2) 입력 리스트에서 어떤 항목이 몇 번 나타나는지를 구하는 알고리즘\n",
        "       \n",
        "       답: 두 알고리즘 모두 입력의 크기가 n일 때 o(n)의 시간이 걸린다. 하지만 1)의 경우에는 첫번째에서 바로 찾을 수 있기 때문에 최선은 o(1)~ 마지막의 있는 경우도 있을 수 있기 때문에 최악은 o(n)의 시간이 걸린다. 2)의 경우에는 최선과 최악의 경우 모두 끝까지 가져가야하기 때문에 모두 o(n)일 경우가 생긴다.\n"
      ],
      "metadata": {
        "id": "CfGpaAouvuzG"
      }
    },
    {
      "cell_type": "markdown",
      "source": [
        "문제 3\n",
        "-------\n",
        "![image.png](data:image/png;base64,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)\n",
        "\n",
        "\t  (1)  \n",
        "\t   답: c가 6이면 n>=5인 모든 n에 대해 부등식 5n^2+10000n<=6n^2이 성립한다. 따라서 c=6 n0 = 5가 존재하므로 이 식은 성립한다. \n",
        "\n",
        "\t  (2) \n",
        "\t   답: 2n^3이 o(n^2)에 포함된다고 가정하면 2n^3<=cn^2이 되고 2n<=c의 부등식을 만족하게 되는데 상수 c를 아무리 많이 하더라도 큰 n을 만족할 수 없다. 따라서 가정은 틀렸고 포함될 수 없다. "
      ],
      "metadata": {
        "id": "f4uUaEPOw1iO"
      }
    },
    {
      "cell_type": "markdown",
      "source": [
        "문제 4\n",
        "-------\n",
        "\t4.. 교재 연습문제 93쪽의 문제 11 중 3개 이상을 풀고, 12번과 같이 빅오 표기법으로 나타내라.\n",
        "![image.png](data:image/png;base64,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)\n",
        "\n",
        "(1)![image.png](data:image/png;base64,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)\n",
        "\n",
        "(2)\n",
        "![image.png](data:image/png;base64,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)\n",
        "\n",
        "(3)\n",
        "![image.png](data:image/png;base64,iVBORw0KGgoAAAANSUhEUgAAAFQAAABCCAYAAADJ5PFHAAAAAXNSR0IArs4c6QAAAARnQU1BAACxjwv8YQUAAAAJcEhZcwAADsMAAA7DAcdvqGQAAAOiSURBVHhe7Zq9kqJAEMf/muw+CBhs8QTwBLiJ0aabQaiJ2YWXXQKhZpsSbSI8gfsEloEz78I1MHKrtZ58tB/g/KqmRCyt8kfPTHfDICWgYWOoXjVMaKHMaKHMaKHMaKHMaKHMaKHMaKHMaKHMaKHMaKHMaKHMXECoROgM4PghQt/BYDDAwE/o7GPALzQRGK1jWMsI28kH0lQg2HxCqI/7DrtQaZpw5Q6b4AML1yhOWhO4xVHvYRdqGAbkKoI1UjLliiLVhZTyIab9RdbQVWSBHBbvVls6lhA055XiXnMBoQJbvMAs320wdlYw99O/5+hbIMxcIEIfm+ZCE7/IMVsNB2HPdqrmQt05AlsdE16cUs55bgjanGIE3v6LX9j2LUGlP9ocEaSkJluDaXhprE5XIvby79mBUCf6QTuhhAhsJZQGhWkdYk8L/QGR0tQvpdZymkV4zYtw7zDs8gamHwH2q+Jy7CNRx2cxRrA2uxMVFFVWoQ/Hr/xrV+H5+Tkfp+BJm4wpPsodaolxZQkmXix1+I3EzzKAd7xHS9q2OgbfGtZi6p8gX5/vbEl4enrKxymGb9E7Uy7YYur3iOH0l4VoxZRdN57690TWIM8KjgR+gwJkCHcCK1qxtdaM6RqUDhUsx7iFUxmqOwVHw6k8Fb8wMz8xUQWJCIDZn2p/hDYl2hiwZe2ou4sYuVM7wPwGneXsomYijsd6Wr3j5cWLsiluvL7BPpmNHMKzyx8hw9804T3E62lHe6A2Xvb9x4wsvfuqFnT8QhMf5gwIxL8rfG3aT/nmkNDDhnArZAhnTLEZr1FtdtEG4Ids6/cejinflCGST2zeXhmmJu2KRWhiUTk06WJu1OE39hFmziitp40tj7CuZAyBbaftc3uV1NdNwjtYy59L7FkqpaxrRD9EWuvRxW7TWaHqtTFF+65mL5QQuh/6A7kUklnViRAkMkg9WmYymdnoWfeuhdCDbn3TwbF+3xf6NjIzF6mUHpnbCpUJwuTy1cs1aSQ066j7rUSo1pg5RrRTp3rCbddQqvud3fwqJeG1qB2h+f0e56j+PvcUSScbzc2oJzQhMXOB4PjGmrsoGxA/jurFfeepJTR/OhkrYHLU59QRWlJLaPF0MjByZf5EcomO0JKaa6ik+BzBlQKio734i0MRVIM4b9O1b2gc3sNv0ly5V3TpyUzttEnzf7RQZrRQZrRQZrRQZrRQZrRQZrRQZrRQZrRQZrRQZrRQVoC/jkG40j+GRyQAAAAASUVORK5CYII=)\n",
        "\n",
        "빅 o\n",
        "\n",
        "(1) o(1) 숫자가 늘어나도 계산하는 시간 복잡도는 동일한다.\n",
        "\n",
        "(2) o(1) 숫자가 늘어나도 계산하는 시간 복잡도는 동일한다.\n",
        "\n",
        "(3) o(n) n의 개수가 증가할 수록 연산 수는 n만큼 늘어난다.\n",
        "\n"
      ],
      "metadata": {
        "id": "ZtKVPM-zxJum"
      }
    }
  ]
}